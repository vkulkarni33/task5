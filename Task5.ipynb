{
  "nbformat": 4,
  "nbformat_minor": 0,
  "metadata": {
    "colab": {
      "provenance": []
    },
    "kernelspec": {
      "name": "python3",
      "display_name": "Python 3"
    },
    "language_info": {
      "name": "python"
    }
  },
  "cells": [
    {
      "cell_type": "code",
      "source": [
        "import pandas as pd\n",
        "import numpy as np\n",
        "\n",
        "# Set a random seed for reproducibility\n",
        "np.random.seed(42)\n",
        "\n",
        "# Number of rows for the dataset\n",
        "num_rows = 1000\n",
        "\n",
        "# Generate synthetic data\n",
        "data = {\n",
        "    \"Unit_Cost\": np.random.uniform(10, 500, num_rows),  # Random float between 10 and 500\n",
        "    \"Total_Revenue\": np.random.uniform(1000, 50000, num_rows),  # Random float between 1000 and 50000\n",
        "    \"Total_Profit\": np.random.uniform(500, 20000, num_rows),  # Random float between 500 and 20000\n",
        "    \"Region\": np.random.choice(\n",
        "        [\"North America\", \"Europe\", \"Asia\", \"Australia\", \"Africa\", \"South America\"], num_rows\n",
        "    ),\n",
        "    \"Country\": np.random.choice(\n",
        "        [\"USA\", \"Canada\", \"UK\", \"Germany\", \"China\", \"India\", \"Australia\", \"Brazil\", \"South Africa\"], num_rows\n",
        "    ),\n",
        "    \"Item_Type\": np.random.choice(\n",
        "        [\"Beverages\", \"Cereal\", \"Snacks\", \"Personal Care\", \"Clothes\", \"Fruits\", \"Household\"], num_rows\n",
        "    ),\n",
        "    \"Order_Priority\": np.random.choice([\"H\", \"M\", \"L\"], num_rows),  # High, Medium, Low priority\n",
        "    \"Sales_Channel\": np.random.choice([\"Online\", \"Offline\"], num_rows),  # Binary target variable\n",
        "}\n",
        "\n",
        "# Create a DataFrame\n",
        "df = pd.DataFrame(data)\n",
        "\n",
        "# Save the dataset as a CSV file\n",
        "df.to_csv(\"synthetic_sales_data.csv\", index=False)\n",
        "\n",
        "# Display the first few rows\n",
        "print(df.head())\n"
      ],
      "metadata": {
        "colab": {
          "base_uri": "https://localhost:8080/"
        },
        "id": "3DBbRToiqAqE",
        "outputId": "4f8637c8-7e88-4775-9b44-eacc802cbb1e"
      },
      "execution_count": 5,
      "outputs": [
        {
          "output_type": "stream",
          "name": "stdout",
          "text": [
            "    Unit_Cost  Total_Revenue  Total_Profit         Region    Country  \\\n",
            "0  193.524658   10071.513513   5603.260833           Asia     Brazil   \n",
            "1  475.850010   27553.146422   5316.086582  North America         UK   \n",
            "2  368.677031   43774.345958  18171.964320         Africa  Australia   \n",
            "3  303.342657   36879.019434   5366.150897  South America        USA   \n",
            "4   86.449134   40521.496245   5803.019660           Asia        USA   \n",
            "\n",
            "  Item_Type Order_Priority Sales_Channel  \n",
            "0    Cereal              M       Offline  \n",
            "1    Snacks              H        Online  \n",
            "2    Cereal              L       Offline  \n",
            "3    Snacks              L        Online  \n",
            "4    Fruits              H        Online  \n"
          ]
        }
      ]
    },
    {
      "cell_type": "code",
      "source": [
        "df = pd.read_csv(\"synthetic_sales_data.csv\")\n",
        "print(df.info())"
      ],
      "metadata": {
        "colab": {
          "base_uri": "https://localhost:8080/"
        },
        "id": "llEbK61hqI5J",
        "outputId": "dd3e57d4-6b56-48a2-8e91-fdea962501f6"
      },
      "execution_count": 6,
      "outputs": [
        {
          "output_type": "stream",
          "name": "stdout",
          "text": [
            "<class 'pandas.core.frame.DataFrame'>\n",
            "RangeIndex: 1000 entries, 0 to 999\n",
            "Data columns (total 8 columns):\n",
            " #   Column          Non-Null Count  Dtype  \n",
            "---  ------          --------------  -----  \n",
            " 0   Unit_Cost       1000 non-null   float64\n",
            " 1   Total_Revenue   1000 non-null   float64\n",
            " 2   Total_Profit    1000 non-null   float64\n",
            " 3   Region          1000 non-null   object \n",
            " 4   Country         1000 non-null   object \n",
            " 5   Item_Type       1000 non-null   object \n",
            " 6   Order_Priority  1000 non-null   object \n",
            " 7   Sales_Channel   1000 non-null   object \n",
            "dtypes: float64(3), object(5)\n",
            "memory usage: 62.6+ KB\n",
            "None\n"
          ]
        }
      ]
    },
    {
      "cell_type": "code",
      "source": [
        "# Import libraries\n",
        "import pandas as pd\n",
        "from sklearn.model_selection import train_test_split\n",
        "from sklearn.preprocessing import LabelEncoder"
      ],
      "metadata": {
        "id": "ENnsMY_Gofg6"
      },
      "execution_count": 1,
      "outputs": []
    },
    {
      "cell_type": "code",
      "source": [
        "import pandas as pd\n",
        "from sklearn.model_selection import train_test_split\n",
        "from sklearn.preprocessing import LabelEncoder\n",
        "\n",
        "# Load your dataset\n",
        "df = pd.read_csv('/content/synthetic_sales_data.csv')\n",
        "\n",
        "# Assume the target column is 'Sales_Channel'\n",
        "y = df['Sales_Channel']  # Extract the target variable\n",
        "X = df.drop('Sales_Channel', axis=1)  # Drop the target column to get features\n",
        "\n",
        "# Encode the target variable if it is categorical\n",
        "if y.dtypes == 'object':\n",
        "    y = LabelEncoder().fit_transform(y)\n",
        "\n",
        "# Convert categorical features in X to numerical using one-hot encoding\n",
        "X = pd.get_dummies(X, drop_first=True)\n",
        "\n",
        "# Split the data into train and test sets\n",
        "X_train, X_test, y_train, y_test = train_test_split(X, y, test_size=0.3, random_state=42)\n",
        "\n",
        "# Display the sizes of the train and test sets\n",
        "print(f\"Train set size: {len(X_train)}, Test set size: {len(X_test)}\")\n"
      ],
      "metadata": {
        "colab": {
          "base_uri": "https://localhost:8080/"
        },
        "id": "XNag-nD2pJEQ",
        "outputId": "61b69d3e-d081-4a67-cf26-0856790d7b64"
      },
      "execution_count": 8,
      "outputs": [
        {
          "output_type": "stream",
          "name": "stdout",
          "text": [
            "Train set size: 700, Test set size: 300\n"
          ]
        }
      ]
    },
    {
      "cell_type": "code",
      "execution_count": 9,
      "metadata": {
        "colab": {
          "base_uri": "https://localhost:8080/"
        },
        "id": "M45lN_whDrPu",
        "outputId": "9cf9bd42-22a0-4367-a96b-095e6cb891cc"
      },
      "outputs": [
        {
          "output_type": "stream",
          "name": "stderr",
          "text": [
            "/usr/local/lib/python3.10/dist-packages/sklearn/linear_model/_logistic.py:469: ConvergenceWarning: lbfgs failed to converge (status=1):\n",
            "STOP: TOTAL NO. of ITERATIONS REACHED LIMIT.\n",
            "\n",
            "Increase the number of iterations (max_iter) or scale the data as shown in:\n",
            "    https://scikit-learn.org/stable/modules/preprocessing.html\n",
            "Please also refer to the documentation for alternative solver options:\n",
            "    https://scikit-learn.org/stable/modules/linear_model.html#logistic-regression\n",
            "  n_iter_i = _check_optimize_result(\n"
          ]
        },
        {
          "output_type": "stream",
          "name": "stdout",
          "text": [
            "\n",
            "Logistic Regression Results:\n",
            "Accuracy: 0.5833333333333334\n",
            "Classification Report:\n",
            "               precision    recall  f1-score   support\n",
            "\n",
            "           0       0.58      0.62      0.60       152\n",
            "           1       0.58      0.55      0.56       148\n",
            "\n",
            "    accuracy                           0.58       300\n",
            "   macro avg       0.58      0.58      0.58       300\n",
            "weighted avg       0.58      0.58      0.58       300\n",
            "\n",
            "Confusion Matrix:\n",
            " [[94 58]\n",
            " [67 81]]\n",
            "\n",
            "Random Forest Results:\n",
            "Accuracy: 0.5166666666666667\n",
            "Classification Report:\n",
            "               precision    recall  f1-score   support\n",
            "\n",
            "           0       0.52      0.62      0.57       152\n",
            "           1       0.51      0.41      0.45       148\n",
            "\n",
            "    accuracy                           0.52       300\n",
            "   macro avg       0.52      0.52      0.51       300\n",
            "weighted avg       0.52      0.52      0.51       300\n",
            "\n",
            "Confusion Matrix:\n",
            " [[95 57]\n",
            " [88 60]]\n",
            "\n",
            "Model Comparison:\n",
            "Logistic Regression Accuracy: 0.58\n",
            "Random Forest Accuracy: 0.52\n"
          ]
        }
      ],
      "source": [
        "# Import necessary libraries\n",
        "from sklearn.linear_model import LogisticRegression\n",
        "from sklearn.ensemble import RandomForestClassifier\n",
        "from sklearn.metrics import accuracy_score, classification_report, confusion_matrix\n",
        "\n",
        "# Task 5: Train and Evaluate Machine Learning Models\n",
        "\n",
        "# Logistic Regression\n",
        "log_reg_model = LogisticRegression(random_state=42)\n",
        "log_reg_model.fit(X_train, y_train)  # Train the model\n",
        "log_reg_preds = log_reg_model.predict(X_test)  # Predict on test set\n",
        "\n",
        "# Evaluate Logistic Regression\n",
        "print(\"\\nLogistic Regression Results:\")\n",
        "print(\"Accuracy:\", accuracy_score(y_test, log_reg_preds))\n",
        "print(\"Classification Report:\\n\", classification_report(y_test, log_reg_preds))\n",
        "print(\"Confusion Matrix:\\n\", confusion_matrix(y_test, log_reg_preds))\n",
        "\n",
        "# Random Forest Classifier\n",
        "rf_model = RandomForestClassifier(random_state=42, n_estimators=100)\n",
        "rf_model.fit(X_train, y_train)  # Train the model\n",
        "rf_preds = rf_model.predict(X_test)  # Predict on test set\n",
        "\n",
        "# Evaluate Random Forest\n",
        "print(\"\\nRandom Forest Results:\")\n",
        "print(\"Accuracy:\", accuracy_score(y_test, rf_preds))\n",
        "print(\"Classification Report:\\n\", classification_report(y_test, rf_preds))\n",
        "print(\"Confusion Matrix:\\n\", confusion_matrix(y_test, rf_preds))\n",
        "\n",
        "# Comparison\n",
        "print(\"\\nModel Comparison:\")\n",
        "print(f\"Logistic Regression Accuracy: {accuracy_score(y_test, log_reg_preds):.2f}\")\n",
        "print(f\"Random Forest Accuracy: {accuracy_score(y_test, rf_preds):.2f}\")\n"
      ]
    }
  ]
}